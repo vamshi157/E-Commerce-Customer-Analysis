{
 "cells": [
  {
   "cell_type": "markdown",
   "id": "7291d058",
   "metadata": {
    "papermill": {
     "duration": 0.011045,
     "end_time": "2022-09-24T19:25:44.133096",
     "exception": false,
     "start_time": "2022-09-24T19:25:44.122051",
     "status": "completed"
    },
    "tags": []
   },
   "source": [
    "## Importing Libraries"
   ]
  },
  {
   "cell_type": "code",
   "execution_count": 1,
   "id": "6ea87e21",
   "metadata": {
    "execution": {
     "iopub.execute_input": "2022-09-24T19:25:44.153899Z",
     "iopub.status.busy": "2022-09-24T19:25:44.153309Z",
     "iopub.status.idle": "2022-09-24T19:25:45.293245Z",
     "shell.execute_reply": "2022-09-24T19:25:45.292116Z"
    },
    "papermill": {
     "duration": 1.153544,
     "end_time": "2022-09-24T19:25:45.296324",
     "exception": false,
     "start_time": "2022-09-24T19:25:44.142780",
     "status": "completed"
    },
    "tags": []
   },
   "outputs": [],
   "source": [
    "import numpy as np\n",
    "import pandas as pd\n",
    "import matplotlib.pyplot as plt\n",
    "import seaborn as sns\n",
    "import warnings\n",
    "warnings.filterwarnings('ignore')"
   ]
  },
  {
   "cell_type": "markdown",
   "id": "c2789fd1",
   "metadata": {
    "papermill": {
     "duration": 0.008649,
     "end_time": "2022-09-24T19:25:45.314280",
     "exception": false,
     "start_time": "2022-09-24T19:25:45.305631",
     "status": "completed"
    },
    "tags": []
   },
   "source": [
    "## Reading the data\n",
    "\n",
    "This dataset is having data of customers who buys clothes online. The store offers in-store style and clothing advice sessions. Customers come in to the store, have sessions/meetings with a personal stylist, then they can go home and order either on a mobile app or website for the clothes they want. The company is trying to decide whether to focus their efforts on their mobile app experience or their website."
   ]
  },
  {
   "cell_type": "code",
   "execution_count": 2,
   "id": "f281c1c6",
   "metadata": {
    "execution": {
     "iopub.execute_input": "2022-09-24T19:25:45.334627Z",
     "iopub.status.busy": "2022-09-24T19:25:45.333996Z",
     "iopub.status.idle": "2022-09-24T19:25:45.356948Z",
     "shell.execute_reply": "2022-09-24T19:25:45.355949Z"
    },
    "papermill": {
     "duration": 0.036264,
     "end_time": "2022-09-24T19:25:45.359899",
     "exception": false,
     "start_time": "2022-09-24T19:25:45.323635",
     "status": "completed"
    },
    "tags": []
   },
   "outputs": [],
   "source": [
    "data=pd.read_csv(\"../input/ecommercecustomers/Ecommerce Customers\")"
   ]
  },
  {
   "cell_type": "markdown",
   "id": "b25d0126",
   "metadata": {
    "papermill": {
     "duration": 0.008928,
     "end_time": "2022-09-24T19:25:45.378145",
     "exception": false,
     "start_time": "2022-09-24T19:25:45.369217",
     "status": "completed"
    },
    "tags": []
   },
   "source": [
    "## Exploratory Data Analysis\n",
    "\n",
    "## Understanding the data"
   ]
  },
  {
   "cell_type": "code",
   "execution_count": 3,
   "id": "293c1f2d",
   "metadata": {
    "execution": {
     "iopub.execute_input": "2022-09-24T19:25:45.399912Z",
     "iopub.status.busy": "2022-09-24T19:25:45.399281Z",
     "iopub.status.idle": "2022-09-24T19:25:45.408284Z",
     "shell.execute_reply": "2022-09-24T19:25:45.407103Z"
    },
    "papermill": {
     "duration": 0.021961,
     "end_time": "2022-09-24T19:25:45.410720",
     "exception": false,
     "start_time": "2022-09-24T19:25:45.388759",
     "status": "completed"
    },
    "tags": []
   },
   "outputs": [
    {
     "data": {
      "text/plain": [
       "(500, 8)"
      ]
     },
     "execution_count": 3,
     "metadata": {},
     "output_type": "execute_result"
    }
   ],
   "source": [
    "data.shape"
   ]
  },
  {
   "cell_type": "code",
   "execution_count": 4,
   "id": "3b335be9",
   "metadata": {
    "execution": {
     "iopub.execute_input": "2022-09-24T19:25:45.430790Z",
     "iopub.status.busy": "2022-09-24T19:25:45.430176Z",
     "iopub.status.idle": "2022-09-24T19:25:45.452790Z",
     "shell.execute_reply": "2022-09-24T19:25:45.451532Z"
    },
    "papermill": {
     "duration": 0.035676,
     "end_time": "2022-09-24T19:25:45.455420",
     "exception": false,
     "start_time": "2022-09-24T19:25:45.419744",
     "status": "completed"
    },
    "tags": []
   },
   "outputs": [
    {
     "data": {
      "text/html": [
       "<div>\n",
       "<style scoped>\n",
       "    .dataframe tbody tr th:only-of-type {\n",
       "        vertical-align: middle;\n",
       "    }\n",
       "\n",
       "    .dataframe tbody tr th {\n",
       "        vertical-align: top;\n",
       "    }\n",
       "\n",
       "    .dataframe thead th {\n",
       "        text-align: right;\n",
       "    }\n",
       "</style>\n",
       "<table border=\"1\" class=\"dataframe\">\n",
       "  <thead>\n",
       "    <tr style=\"text-align: right;\">\n",
       "      <th></th>\n",
       "      <th>Email</th>\n",
       "      <th>Address</th>\n",
       "      <th>Avatar</th>\n",
       "      <th>Avg. Session Length</th>\n",
       "      <th>Time on App</th>\n",
       "      <th>Time on Website</th>\n",
       "      <th>Length of Membership</th>\n",
       "      <th>Yearly Amount Spent</th>\n",
       "    </tr>\n",
       "  </thead>\n",
       "  <tbody>\n",
       "    <tr>\n",
       "      <th>0</th>\n",
       "      <td>mstephenson@fernandez.com</td>\n",
       "      <td>835 Frank Tunnel\\nWrightmouth, MI 82180-9605</td>\n",
       "      <td>Violet</td>\n",
       "      <td>34.497268</td>\n",
       "      <td>12.655651</td>\n",
       "      <td>39.577668</td>\n",
       "      <td>4.082621</td>\n",
       "      <td>587.951054</td>\n",
       "    </tr>\n",
       "    <tr>\n",
       "      <th>1</th>\n",
       "      <td>hduke@hotmail.com</td>\n",
       "      <td>4547 Archer Common\\nDiazchester, CA 06566-8576</td>\n",
       "      <td>DarkGreen</td>\n",
       "      <td>31.926272</td>\n",
       "      <td>11.109461</td>\n",
       "      <td>37.268959</td>\n",
       "      <td>2.664034</td>\n",
       "      <td>392.204933</td>\n",
       "    </tr>\n",
       "    <tr>\n",
       "      <th>2</th>\n",
       "      <td>pallen@yahoo.com</td>\n",
       "      <td>24645 Valerie Unions Suite 582\\nCobbborough, D...</td>\n",
       "      <td>Bisque</td>\n",
       "      <td>33.000915</td>\n",
       "      <td>11.330278</td>\n",
       "      <td>37.110597</td>\n",
       "      <td>4.104543</td>\n",
       "      <td>487.547505</td>\n",
       "    </tr>\n",
       "    <tr>\n",
       "      <th>3</th>\n",
       "      <td>riverarebecca@gmail.com</td>\n",
       "      <td>1414 David Throughway\\nPort Jason, OH 22070-1220</td>\n",
       "      <td>SaddleBrown</td>\n",
       "      <td>34.305557</td>\n",
       "      <td>13.717514</td>\n",
       "      <td>36.721283</td>\n",
       "      <td>3.120179</td>\n",
       "      <td>581.852344</td>\n",
       "    </tr>\n",
       "    <tr>\n",
       "      <th>4</th>\n",
       "      <td>mstephens@davidson-herman.com</td>\n",
       "      <td>14023 Rodriguez Passage\\nPort Jacobville, PR 3...</td>\n",
       "      <td>MediumAquaMarine</td>\n",
       "      <td>33.330673</td>\n",
       "      <td>12.795189</td>\n",
       "      <td>37.536653</td>\n",
       "      <td>4.446308</td>\n",
       "      <td>599.406092</td>\n",
       "    </tr>\n",
       "  </tbody>\n",
       "</table>\n",
       "</div>"
      ],
      "text/plain": [
       "                           Email  \\\n",
       "0      mstephenson@fernandez.com   \n",
       "1              hduke@hotmail.com   \n",
       "2               pallen@yahoo.com   \n",
       "3        riverarebecca@gmail.com   \n",
       "4  mstephens@davidson-herman.com   \n",
       "\n",
       "                                             Address            Avatar  \\\n",
       "0       835 Frank Tunnel\\nWrightmouth, MI 82180-9605            Violet   \n",
       "1     4547 Archer Common\\nDiazchester, CA 06566-8576         DarkGreen   \n",
       "2  24645 Valerie Unions Suite 582\\nCobbborough, D...            Bisque   \n",
       "3   1414 David Throughway\\nPort Jason, OH 22070-1220       SaddleBrown   \n",
       "4  14023 Rodriguez Passage\\nPort Jacobville, PR 3...  MediumAquaMarine   \n",
       "\n",
       "   Avg. Session Length  Time on App  Time on Website  Length of Membership  \\\n",
       "0            34.497268    12.655651        39.577668              4.082621   \n",
       "1            31.926272    11.109461        37.268959              2.664034   \n",
       "2            33.000915    11.330278        37.110597              4.104543   \n",
       "3            34.305557    13.717514        36.721283              3.120179   \n",
       "4            33.330673    12.795189        37.536653              4.446308   \n",
       "\n",
       "   Yearly Amount Spent  \n",
       "0           587.951054  \n",
       "1           392.204933  \n",
       "2           487.547505  \n",
       "3           581.852344  \n",
       "4           599.406092  "
      ]
     },
     "execution_count": 4,
     "metadata": {},
     "output_type": "execute_result"
    }
   ],
   "source": [
    "data.head(5)"
   ]
  },
  {
   "cell_type": "code",
   "execution_count": 5,
   "id": "7d2cc1ac",
   "metadata": {
    "execution": {
     "iopub.execute_input": "2022-09-24T19:25:45.476015Z",
     "iopub.status.busy": "2022-09-24T19:25:45.475611Z",
     "iopub.status.idle": "2022-09-24T19:25:45.490346Z",
     "shell.execute_reply": "2022-09-24T19:25:45.489156Z"
    },
    "papermill": {
     "duration": 0.027891,
     "end_time": "2022-09-24T19:25:45.492724",
     "exception": false,
     "start_time": "2022-09-24T19:25:45.464833",
     "status": "completed"
    },
    "tags": []
   },
   "outputs": [
    {
     "data": {
      "text/html": [
       "<div>\n",
       "<style scoped>\n",
       "    .dataframe tbody tr th:only-of-type {\n",
       "        vertical-align: middle;\n",
       "    }\n",
       "\n",
       "    .dataframe tbody tr th {\n",
       "        vertical-align: top;\n",
       "    }\n",
       "\n",
       "    .dataframe thead th {\n",
       "        text-align: right;\n",
       "    }\n",
       "</style>\n",
       "<table border=\"1\" class=\"dataframe\">\n",
       "  <thead>\n",
       "    <tr style=\"text-align: right;\">\n",
       "      <th></th>\n",
       "      <th>Email</th>\n",
       "      <th>Address</th>\n",
       "      <th>Avatar</th>\n",
       "      <th>Avg. Session Length</th>\n",
       "      <th>Time on App</th>\n",
       "      <th>Time on Website</th>\n",
       "      <th>Length of Membership</th>\n",
       "      <th>Yearly Amount Spent</th>\n",
       "    </tr>\n",
       "  </thead>\n",
       "  <tbody>\n",
       "    <tr>\n",
       "      <th>495</th>\n",
       "      <td>lewisjessica@craig-evans.com</td>\n",
       "      <td>4483 Jones Motorway Suite 872\\nLake Jamiefurt,...</td>\n",
       "      <td>Tan</td>\n",
       "      <td>33.237660</td>\n",
       "      <td>13.566160</td>\n",
       "      <td>36.417985</td>\n",
       "      <td>3.746573</td>\n",
       "      <td>573.847438</td>\n",
       "    </tr>\n",
       "    <tr>\n",
       "      <th>496</th>\n",
       "      <td>katrina56@gmail.com</td>\n",
       "      <td>172 Owen Divide Suite 497\\nWest Richard, CA 19320</td>\n",
       "      <td>PaleVioletRed</td>\n",
       "      <td>34.702529</td>\n",
       "      <td>11.695736</td>\n",
       "      <td>37.190268</td>\n",
       "      <td>3.576526</td>\n",
       "      <td>529.049004</td>\n",
       "    </tr>\n",
       "    <tr>\n",
       "      <th>497</th>\n",
       "      <td>dale88@hotmail.com</td>\n",
       "      <td>0787 Andrews Ranch Apt. 633\\nSouth Chadburgh, ...</td>\n",
       "      <td>Cornsilk</td>\n",
       "      <td>32.646777</td>\n",
       "      <td>11.499409</td>\n",
       "      <td>38.332576</td>\n",
       "      <td>4.958264</td>\n",
       "      <td>551.620145</td>\n",
       "    </tr>\n",
       "    <tr>\n",
       "      <th>498</th>\n",
       "      <td>cwilson@hotmail.com</td>\n",
       "      <td>680 Jennifer Lodge Apt. 808\\nBrendachester, TX...</td>\n",
       "      <td>Teal</td>\n",
       "      <td>33.322501</td>\n",
       "      <td>12.391423</td>\n",
       "      <td>36.840086</td>\n",
       "      <td>2.336485</td>\n",
       "      <td>456.469510</td>\n",
       "    </tr>\n",
       "    <tr>\n",
       "      <th>499</th>\n",
       "      <td>hannahwilson@davidson.com</td>\n",
       "      <td>49791 Rachel Heights Apt. 898\\nEast Drewboroug...</td>\n",
       "      <td>DarkMagenta</td>\n",
       "      <td>33.715981</td>\n",
       "      <td>12.418808</td>\n",
       "      <td>35.771016</td>\n",
       "      <td>2.735160</td>\n",
       "      <td>497.778642</td>\n",
       "    </tr>\n",
       "  </tbody>\n",
       "</table>\n",
       "</div>"
      ],
      "text/plain": [
       "                            Email  \\\n",
       "495  lewisjessica@craig-evans.com   \n",
       "496           katrina56@gmail.com   \n",
       "497            dale88@hotmail.com   \n",
       "498           cwilson@hotmail.com   \n",
       "499     hannahwilson@davidson.com   \n",
       "\n",
       "                                               Address         Avatar  \\\n",
       "495  4483 Jones Motorway Suite 872\\nLake Jamiefurt,...            Tan   \n",
       "496  172 Owen Divide Suite 497\\nWest Richard, CA 19320  PaleVioletRed   \n",
       "497  0787 Andrews Ranch Apt. 633\\nSouth Chadburgh, ...       Cornsilk   \n",
       "498  680 Jennifer Lodge Apt. 808\\nBrendachester, TX...           Teal   \n",
       "499  49791 Rachel Heights Apt. 898\\nEast Drewboroug...    DarkMagenta   \n",
       "\n",
       "     Avg. Session Length  Time on App  Time on Website  Length of Membership  \\\n",
       "495            33.237660    13.566160        36.417985              3.746573   \n",
       "496            34.702529    11.695736        37.190268              3.576526   \n",
       "497            32.646777    11.499409        38.332576              4.958264   \n",
       "498            33.322501    12.391423        36.840086              2.336485   \n",
       "499            33.715981    12.418808        35.771016              2.735160   \n",
       "\n",
       "     Yearly Amount Spent  \n",
       "495           573.847438  \n",
       "496           529.049004  \n",
       "497           551.620145  \n",
       "498           456.469510  \n",
       "499           497.778642  "
      ]
     },
     "execution_count": 5,
     "metadata": {},
     "output_type": "execute_result"
    }
   ],
   "source": [
    "data.tail(5)"
   ]
  },
  {
   "cell_type": "code",
   "execution_count": 6,
   "id": "ad08deb0",
   "metadata": {
    "execution": {
     "iopub.execute_input": "2022-09-24T19:25:45.513448Z",
     "iopub.status.busy": "2022-09-24T19:25:45.513063Z",
     "iopub.status.idle": "2022-09-24T19:25:45.539132Z",
     "shell.execute_reply": "2022-09-24T19:25:45.537761Z"
    },
    "papermill": {
     "duration": 0.040257,
     "end_time": "2022-09-24T19:25:45.542536",
     "exception": false,
     "start_time": "2022-09-24T19:25:45.502279",
     "status": "completed"
    },
    "tags": []
   },
   "outputs": [
    {
     "name": "stdout",
     "output_type": "stream",
     "text": [
      "<class 'pandas.core.frame.DataFrame'>\n",
      "RangeIndex: 500 entries, 0 to 499\n",
      "Data columns (total 8 columns):\n",
      " #   Column                Non-Null Count  Dtype  \n",
      "---  ------                --------------  -----  \n",
      " 0   Email                 500 non-null    object \n",
      " 1   Address               500 non-null    object \n",
      " 2   Avatar                500 non-null    object \n",
      " 3   Avg. Session Length   500 non-null    float64\n",
      " 4   Time on App           500 non-null    float64\n",
      " 5   Time on Website       500 non-null    float64\n",
      " 6   Length of Membership  500 non-null    float64\n",
      " 7   Yearly Amount Spent   500 non-null    float64\n",
      "dtypes: float64(5), object(3)\n",
      "memory usage: 31.4+ KB\n"
     ]
    }
   ],
   "source": [
    "# Checking the datatypes of variables\n",
    "data.info()"
   ]
  },
  {
   "cell_type": "markdown",
   "id": "54274edd",
   "metadata": {
    "papermill": {
     "duration": 0.009281,
     "end_time": "2022-09-24T19:25:45.563305",
     "exception": false,
     "start_time": "2022-09-24T19:25:45.554024",
     "status": "completed"
    },
    "tags": []
   },
   "source": [
    "The columns Email, Address and Avatar has unique values in almost every row and does not impact the target variable, Yearly Amount Spent. So we are going to drop these columns"
   ]
  },
  {
   "cell_type": "code",
   "execution_count": 7,
   "id": "44622e69",
   "metadata": {
    "execution": {
     "iopub.execute_input": "2022-09-24T19:25:45.584188Z",
     "iopub.status.busy": "2022-09-24T19:25:45.583779Z",
     "iopub.status.idle": "2022-09-24T19:25:45.591306Z",
     "shell.execute_reply": "2022-09-24T19:25:45.589992Z"
    },
    "papermill": {
     "duration": 0.020596,
     "end_time": "2022-09-24T19:25:45.593462",
     "exception": false,
     "start_time": "2022-09-24T19:25:45.572866",
     "status": "completed"
    },
    "tags": []
   },
   "outputs": [],
   "source": [
    "data.drop(columns=['Email','Address','Avatar'],axis=1,inplace=True)"
   ]
  },
  {
   "cell_type": "code",
   "execution_count": 8,
   "id": "4d0a7c85",
   "metadata": {
    "execution": {
     "iopub.execute_input": "2022-09-24T19:25:45.614134Z",
     "iopub.status.busy": "2022-09-24T19:25:45.613686Z",
     "iopub.status.idle": "2022-09-24T19:25:45.626077Z",
     "shell.execute_reply": "2022-09-24T19:25:45.625217Z"
    },
    "papermill": {
     "duration": 0.025993,
     "end_time": "2022-09-24T19:25:45.628998",
     "exception": false,
     "start_time": "2022-09-24T19:25:45.603005",
     "status": "completed"
    },
    "tags": []
   },
   "outputs": [
    {
     "name": "stdout",
     "output_type": "stream",
     "text": [
      "<class 'pandas.core.frame.DataFrame'>\n",
      "RangeIndex: 500 entries, 0 to 499\n",
      "Data columns (total 5 columns):\n",
      " #   Column                Non-Null Count  Dtype  \n",
      "---  ------                --------------  -----  \n",
      " 0   Avg. Session Length   500 non-null    float64\n",
      " 1   Time on App           500 non-null    float64\n",
      " 2   Time on Website       500 non-null    float64\n",
      " 3   Length of Membership  500 non-null    float64\n",
      " 4   Yearly Amount Spent   500 non-null    float64\n",
      "dtypes: float64(5)\n",
      "memory usage: 19.7 KB\n"
     ]
    }
   ],
   "source": [
    "data.info()"
   ]
  },
  {
   "cell_type": "markdown",
   "id": "79653ba7",
   "metadata": {
    "papermill": {
     "duration": 0.009283,
     "end_time": "2022-09-24T19:25:45.649327",
     "exception": false,
     "start_time": "2022-09-24T19:25:45.640044",
     "status": "completed"
    },
    "tags": []
   },
   "source": [
    "## Checking for Missing Values"
   ]
  },
  {
   "cell_type": "code",
   "execution_count": 9,
   "id": "1e9d708a",
   "metadata": {
    "execution": {
     "iopub.execute_input": "2022-09-24T19:25:45.670260Z",
     "iopub.status.busy": "2022-09-24T19:25:45.669844Z",
     "iopub.status.idle": "2022-09-24T19:25:45.678710Z",
     "shell.execute_reply": "2022-09-24T19:25:45.677686Z"
    },
    "papermill": {
     "duration": 0.021979,
     "end_time": "2022-09-24T19:25:45.680982",
     "exception": false,
     "start_time": "2022-09-24T19:25:45.659003",
     "status": "completed"
    },
    "tags": []
   },
   "outputs": [
    {
     "data": {
      "text/plain": [
       "Avg. Session Length     0\n",
       "Time on App             0\n",
       "Time on Website         0\n",
       "Length of Membership    0\n",
       "Yearly Amount Spent     0\n",
       "dtype: int64"
      ]
     },
     "execution_count": 9,
     "metadata": {},
     "output_type": "execute_result"
    }
   ],
   "source": [
    "# Checking for missing values\n",
    "data.isnull().sum()"
   ]
  },
  {
   "cell_type": "markdown",
   "id": "968558b3",
   "metadata": {
    "papermill": {
     "duration": 0.009866,
     "end_time": "2022-09-24T19:25:45.700814",
     "exception": false,
     "start_time": "2022-09-24T19:25:45.690948",
     "status": "completed"
    },
    "tags": []
   },
   "source": [
    "### Observations\n",
    "\n",
    "* There are no categorical variables in the dataset\n",
    "* There are 4 continuous independent variables, Avg.Session Length, Time on App, Time on Website and Length of Membership.\n",
    "* The target variable Yearly Amount Spent is also a continuous variable.\n",
    "* There are no missing values in any of the columns of the dataset."
   ]
  },
  {
   "cell_type": "markdown",
   "id": "7e90f4ee",
   "metadata": {
    "papermill": {
     "duration": 0.009516,
     "end_time": "2022-09-24T19:25:45.720201",
     "exception": false,
     "start_time": "2022-09-24T19:25:45.710685",
     "status": "completed"
    },
    "tags": []
   },
   "source": [
    "## Outlier Detection"
   ]
  },
  {
   "cell_type": "code",
   "execution_count": 10,
   "id": "c0759171",
   "metadata": {
    "execution": {
     "iopub.execute_input": "2022-09-24T19:25:45.742083Z",
     "iopub.status.busy": "2022-09-24T19:25:45.741658Z",
     "iopub.status.idle": "2022-09-24T19:25:45.985148Z",
     "shell.execute_reply": "2022-09-24T19:25:45.983817Z"
    },
    "papermill": {
     "duration": 0.257523,
     "end_time": "2022-09-24T19:25:45.987851",
     "exception": false,
     "start_time": "2022-09-24T19:25:45.730328",
     "status": "completed"
    },
    "tags": []
   },
   "outputs": [
    {
     "data": {
      "text/plain": [
       "Text(0.5, 1.0, 'Avg. Session Length')"
      ]
     },
     "execution_count": 10,
     "metadata": {},
     "output_type": "execute_result"
    },
    {
     "data": {
      "image/png": "[encoded data removed]",
      "text/plain": [
       "<Figure size 504x504 with 1 Axes>"
      ]
     },
     "metadata": {
      "needs_background": "light"
     },
     "output_type": "display_data"
    }
   ],
   "source": [
    "# Boxplot of Avg. Session Length\n",
    "\n",
    "fig = plt.figure(figsize=(7,7))\n",
    "sns.boxplot(y=data['Avg. Session Length'])\n",
    "plt.title('Avg. Session Length')"
   ]
  },
  {
   "cell_type": "code",
   "execution_count": 11,
   "id": "f61de8e4",
   "metadata": {
    "execution": {
     "iopub.execute_input": "2022-09-24T19:25:46.011782Z",
     "iopub.status.busy": "2022-09-24T19:25:46.011278Z",
     "iopub.status.idle": "2022-09-24T19:25:46.208128Z",
     "shell.execute_reply": "2022-09-24T19:25:46.206957Z"
    },
    "papermill": {
     "duration": 0.211153,
     "end_time": "2022-09-24T19:25:46.210755",
     "exception": false,
     "start_time": "2022-09-24T19:25:45.999602",
     "status": "completed"
    },
    "tags": []
   },
   "outputs": [
    {
     "data": {
      "text/plain": [
       "Text(0.5, 1.0, 'Time on App')"
      ]
     },
     "execution_count": 11,
     "metadata": {},
     "output_type": "execute_result"
    },
    {
     "data": {
      "image/png": "[encoded data removed]",
      "text/plain": [
       "<Figure size 504x504 with 1 Axes>"
      ]
     },
     "metadata": {
      "needs_background": "light"
     },
     "output_type": "display_data"
    }
   ],
   "source": [
    "# Boxplot of Time on App\n",
    "\n",
    "fig = plt.figure(figsize=(7,7))\n",
    "sns.boxplot(y=data['Time on App'])\n",
    "plt.title('Time on App')"
   ]
  },
  {
   "cell_type": "code",
   "execution_count": 12,
   "id": "9bcf2543",
   "metadata": {
    "execution": {
     "iopub.execute_input": "2022-09-24T19:25:46.233883Z",
     "iopub.status.busy": "2022-09-24T19:25:46.233461Z",
     "iopub.status.idle": "2022-09-24T19:25:46.431980Z",
     "shell.execute_reply": "2022-09-24T19:25:46.430809Z"
    },
    "papermill": {
     "duration": 0.212795,
     "end_time": "2022-09-24T19:25:46.434353",
     "exception": false,
     "start_time": "2022-09-24T19:25:46.221558",
     "status": "completed"
    },
    "tags": []
   },
   "outputs": [
    {
     "data": {
      "text/plain": [
       "Text(0.5, 1.0, 'Time on Website')"
      ]
     },
     "execution_count": 12,
     "metadata": {},
     "output_type": "execute_result"
    },
    {
     "data": {
      "image/png": "[encoded data removed]",
      "text/plain": [
       "<Figure size 504x504 with 1 Axes>"
      ]
     },
     "metadata": {
      "needs_background": "light"
     },
     "output_type": "display_data"
    }
   ],
   "source": [
    "# Boxplot of Time on Website\n",
    "\n",
    "fig = plt.figure(figsize=(7,7))\n",
    "sns.boxplot(y=data['Time on Website'])\n",
    "plt.title('Time on Website')"
   ]
  },
  {
   "cell_type": "code",
   "execution_count": 13,
   "id": "ade43726",
   "metadata": {
    "execution": {
     "iopub.execute_input": "2022-09-24T19:25:46.457702Z",
     "iopub.status.busy": "2022-09-24T19:25:46.457297Z",
     "iopub.status.idle": "2022-09-24T19:25:46.662391Z",
     "shell.execute_reply": "2022-09-24T19:25:46.660991Z"
    },
    "papermill": {
     "duration": 0.219711,
     "end_time": "2022-09-24T19:25:46.664879",
     "exception": false,
     "start_time": "2022-09-24T19:25:46.445168",
     "status": "completed"
    },
    "tags": []
   },
   "outputs": [
    {
     "data": {
      "text/plain": [
       "Text(0.5, 1.0, 'Length of Membership')"
      ]
     },
     "execution_count": 13,
     "metadata": {},
     "output_type": "execute_result"
    },
    {
     "data": {
      "image/png": "[encoded data removed]",
      "text/plain": [
       "<Figure size 504x504 with 1 Axes>"
      ]
     },
     "metadata": {
      "needs_background": "light"
     },
     "output_type": "display_data"
    }
   ],
   "source": [
    "# Boxplot of Length of Membership\n",
    "\n",
    "fig = plt.figure(figsize=(7,7))\n",
    "sns.boxplot(y=data['Length of Membership'])\n",
    "plt.title('Length of Membership')"
   ]
  },
  {
   "cell_type": "markdown",
   "id": "870e45fe",
   "metadata": {
    "papermill": {
     "duration": 0.010728,
     "end_time": "2022-09-24T19:25:46.686894",
     "exception": false,
     "start_time": "2022-09-24T19:25:46.676166",
     "status": "completed"
    },
    "tags": []
   },
   "source": [
    "As the number of outliers are very few, we remove them form the dataset"
   ]
  },
  {
   "cell_type": "code",
   "execution_count": 14,
   "id": "f06f783d",
   "metadata": {
    "execution": {
     "iopub.execute_input": "2022-09-24T19:25:46.710853Z",
     "iopub.status.busy": "2022-09-24T19:25:46.710452Z",
     "iopub.status.idle": "2022-09-24T19:25:46.722381Z",
     "shell.execute_reply": "2022-09-24T19:25:46.721256Z"
    },
    "papermill": {
     "duration": 0.026915,
     "end_time": "2022-09-24T19:25:46.724976",
     "exception": false,
     "start_time": "2022-09-24T19:25:46.698061",
     "status": "completed"
    },
    "tags": []
   },
   "outputs": [],
   "source": [
    "Q1 = data.quantile(0.25)\n",
    "Q3 = data.quantile(0.75)\n",
    "IQR = Q3 - Q1\n",
    "data = data[~((data < (Q1 - 1.5 * IQR)) |(data > (Q3 + 1.5 * IQR))).any(axis=1)]"
   ]
  },
  {
   "cell_type": "code",
   "execution_count": 15,
   "id": "77344ba5",
   "metadata": {
    "execution": {
     "iopub.execute_input": "2022-09-24T19:25:46.749383Z",
     "iopub.status.busy": "2022-09-24T19:25:46.748985Z",
     "iopub.status.idle": "2022-09-24T19:25:47.179215Z",
     "shell.execute_reply": "2022-09-24T19:25:47.178066Z"
    },
    "papermill": {
     "duration": 0.445567,
     "end_time": "2022-09-24T19:25:47.181995",
     "exception": false,
     "start_time": "2022-09-24T19:25:46.736428",
     "status": "completed"
    },
    "tags": []
   },
   "outputs": [
    {
     "data": {
      "image/png": "[encoded data removed]",
      "text/plain": [
       "<Figure size 1800x504 with 4 Axes>"
      ]
     },
     "metadata": {
      "needs_background": "light"
     },
     "output_type": "display_data"
    }
   ],
   "source": [
    "# After removing the outliers\n",
    "\n",
    "fig = plt.figure(figsize=(25,7))\n",
    "plt.subplot(1,4,1)\n",
    "sns.boxplot(data['Avg. Session Length'])\n",
    "plt.subplot(1,4,2)\n",
    "sns.boxplot(data['Time on App'])\n",
    "plt.subplot(1,4,3)\n",
    "sns.boxplot(data['Time on Website'])\n",
    "plt.subplot(1,4,4)\n",
    "sns.boxplot(data['Length of Membership'])\n",
    "plt.show()"
   ]
  },
  {
   "cell_type": "markdown",
   "id": "2cd3c5bf",
   "metadata": {
    "papermill": {
     "duration": 0.011097,
     "end_time": "2022-09-24T19:25:47.204693",
     "exception": false,
     "start_time": "2022-09-24T19:25:47.193596",
     "status": "completed"
    },
    "tags": []
   },
   "source": [
    "## Checking for Normality"
   ]
  },
  {
   "cell_type": "code",
   "execution_count": 16,
   "id": "a10dd700",
   "metadata": {
    "execution": {
     "iopub.execute_input": "2022-09-24T19:25:47.229772Z",
     "iopub.status.busy": "2022-09-24T19:25:47.229362Z",
     "iopub.status.idle": "2022-09-24T19:25:47.967916Z",
     "shell.execute_reply": "2022-09-24T19:25:47.966978Z"
    },
    "papermill": {
     "duration": 0.75396,
     "end_time": "2022-09-24T19:25:47.970186",
     "exception": false,
     "start_time": "2022-09-24T19:25:47.216226",
     "status": "completed"
    },
    "tags": []
   },
   "outputs": [
    {
     "data": {
      "image/png": "[encoded data removed]",
      "text/plain": [
       "<Figure size 1800x504 with 4 Axes>"
      ]
     },
     "metadata": {
      "needs_background": "light"
     },
     "output_type": "display_data"
    }
   ],
   "source": [
    "# Checking the distributions of independent variables\n",
    "\n",
    "fig = plt.figure(figsize=(25,7))\n",
    "plt.subplot(1,4,1)\n",
    "sns.distplot(data['Avg. Session Length'])\n",
    "plt.subplot(1,4,2)\n",
    "sns.distplot(data['Time on App'])\n",
    "plt.subplot(1,4,3)\n",
    "sns.distplot(data['Time on Website'])\n",
    "plt.subplot(1,4,4)\n",
    "sns.distplot(data['Length of Membership'])\n",
    "plt.show()"
   ]
  },
  {
   "cell_type": "code",
   "execution_count": 17,
   "id": "8766b68a",
   "metadata": {
    "execution": {
     "iopub.execute_input": "2022-09-24T19:25:47.998050Z",
     "iopub.status.busy": "2022-09-24T19:25:47.996761Z",
     "iopub.status.idle": "2022-09-24T19:25:48.228915Z",
     "shell.execute_reply": "2022-09-24T19:25:48.227772Z"
    },
    "papermill": {
     "duration": 0.248661,
     "end_time": "2022-09-24T19:25:48.231510",
     "exception": false,
     "start_time": "2022-09-24T19:25:47.982849",
     "status": "completed"
    },
    "tags": []
   },
   "outputs": [
    {
     "data": {
      "image/png": "[encoded data removed]",
      "text/plain": [
       "<Figure size 432x288 with 1 Axes>"
      ]
     },
     "metadata": {
      "needs_background": "light"
     },
     "output_type": "display_data"
    }
   ],
   "source": [
    "## Checking for the normality assumption of target variable\n",
    "\n",
    "sns.distplot(data[\"Yearly Amount Spent\"])\n",
    "plt.show()"
   ]
  },
  {
   "cell_type": "markdown",
   "id": "86720e1e",
   "metadata": {
    "papermill": {
     "duration": 0.012453,
     "end_time": "2022-09-24T19:25:48.256779",
     "exception": false,
     "start_time": "2022-09-24T19:25:48.244326",
     "status": "completed"
    },
    "tags": []
   },
   "source": [
    "From the above plots we can say that all our variables are normally distributed and therfore satisfy the normaity assumption."
   ]
  },
  {
   "cell_type": "markdown",
   "id": "ceffbcf0",
   "metadata": {
    "papermill": {
     "duration": 0.01246,
     "end_time": "2022-09-24T19:25:48.282010",
     "exception": false,
     "start_time": "2022-09-24T19:25:48.269550",
     "status": "completed"
    },
    "tags": []
   },
   "source": [
    "## Multicollinearity\n",
    "\n",
    "To determine the linearity, we start by calculating the correlation between the independent variables."
   ]
  },
  {
   "cell_type": "code",
   "execution_count": 18,
   "id": "b33b63b0",
   "metadata": {
    "execution": {
     "iopub.execute_input": "2022-09-24T19:25:48.309827Z",
     "iopub.status.busy": "2022-09-24T19:25:48.308777Z",
     "iopub.status.idle": "2022-09-24T19:25:48.704288Z",
     "shell.execute_reply": "2022-09-24T19:25:48.703011Z"
    },
    "papermill": {
     "duration": 0.412377,
     "end_time": "2022-09-24T19:25:48.707047",
     "exception": false,
     "start_time": "2022-09-24T19:25:48.294670",
     "status": "completed"
    },
    "tags": []
   },
   "outputs": [
    {
     "data": {
      "text/plain": [
       "<AxesSubplot:>"
      ]
     },
     "execution_count": 18,
     "metadata": {},
     "output_type": "execute_result"
    },
    {
     "data": {
      "image/png": "[encoded data removed]",
      "text/plain": [
       "<Figure size 720x720 with 2 Axes>"
      ]
     },
     "metadata": {
      "needs_background": "light"
     },
     "output_type": "display_data"
    }
   ],
   "source": [
    "# First calculating the correlation coefficients of the independent variables\n",
    "# and rounding it off to 2 digits\n",
    "\n",
    "correlation_matrix=np.round(data.corr(), 2)\n",
    "\n",
    "# Plotting the correlation matrix\n",
    "\n",
    "fig = plt.figure(figsize=(10,10))\n",
    "sns.heatmap(data=correlation_matrix, annot=True)"
   ]
  },
  {
   "cell_type": "markdown",
   "id": "5d6fa1ef",
   "metadata": {
    "papermill": {
     "duration": 0.013153,
     "end_time": "2022-09-24T19:25:48.733703",
     "exception": false,
     "start_time": "2022-09-24T19:25:48.720550",
     "status": "completed"
    },
    "tags": []
   },
   "source": [
    "The correlation matrix shows that the target variable Yearly Amount Spent is highly correlated \n",
    "to the independent variable Length of Membership.\n",
    "\n",
    "So, there is no linearity between any of the independent variables and so the data follows the assumption of no multicollinearity."
   ]
  },
  {
   "cell_type": "markdown",
   "id": "ef7926e2",
   "metadata": {
    "papermill": {
     "duration": 0.012989,
     "end_time": "2022-09-24T19:25:48.760127",
     "exception": false,
     "start_time": "2022-09-24T19:25:48.747138",
     "status": "completed"
    },
    "tags": []
   },
   "source": [
    "## Data Partition into Training and Testing"
   ]
  },
  {
   "cell_type": "code",
   "execution_count": 19,
   "id": "fc44732b",
   "metadata": {
    "execution": {
     "iopub.execute_input": "2022-09-24T19:25:48.788641Z",
     "iopub.status.busy": "2022-09-24T19:25:48.788231Z",
     "iopub.status.idle": "2022-09-24T19:25:49.005499Z",
     "shell.execute_reply": "2022-09-24T19:25:49.004244Z"
    },
    "papermill": {
     "duration": 0.234494,
     "end_time": "2022-09-24T19:25:49.007984",
     "exception": false,
     "start_time": "2022-09-24T19:25:48.773490",
     "status": "completed"
    },
    "tags": []
   },
   "outputs": [
    {
     "data": {
      "text/plain": [
       "((357, 4), (119, 4))"
      ]
     },
     "execution_count": 19,
     "metadata": {},
     "output_type": "execute_result"
    }
   ],
   "source": [
    "from sklearn.model_selection import train_test_split\n",
    "x_train, x_test, y_train, y_test = train_test_split(data.drop(['Yearly Amount Spent'],axis=1),\n",
    "                                                   data['Yearly Amount Spent'],\n",
    "                                                   test_size=0.25,\n",
    "                                                   random_state=0)\n",
    "\n",
    "x_train.shape, x_test.shape"
   ]
  },
  {
   "cell_type": "markdown",
   "id": "5c54af1a",
   "metadata": {
    "papermill": {
     "duration": 0.013095,
     "end_time": "2022-09-24T19:25:49.035044",
     "exception": false,
     "start_time": "2022-09-24T19:25:49.021949",
     "status": "completed"
    },
    "tags": []
   },
   "source": [
    "## Model Construction and Validation"
   ]
  },
  {
   "cell_type": "code",
   "execution_count": 20,
   "id": "befc717f",
   "metadata": {
    "execution": {
     "iopub.execute_input": "2022-09-24T19:25:49.064226Z",
     "iopub.status.busy": "2022-09-24T19:25:49.063496Z",
     "iopub.status.idle": "2022-09-24T19:25:49.148304Z",
     "shell.execute_reply": "2022-09-24T19:25:49.147141Z"
    },
    "papermill": {
     "duration": 0.102802,
     "end_time": "2022-09-24T19:25:49.151393",
     "exception": false,
     "start_time": "2022-09-24T19:25:49.048591",
     "status": "completed"
    },
    "tags": []
   },
   "outputs": [],
   "source": [
    "from sklearn.linear_model import LinearRegression\n",
    "from sklearn.metrics import mean_absolute_error, r2_score\n",
    "from sklearn.model_selection import cross_val_score"
   ]
  },
  {
   "cell_type": "code",
   "execution_count": 21,
   "id": "a08e0245",
   "metadata": {
    "execution": {
     "iopub.execute_input": "2022-09-24T19:25:49.184778Z",
     "iopub.status.busy": "2022-09-24T19:25:49.183616Z",
     "iopub.status.idle": "2022-09-24T19:25:49.208074Z",
     "shell.execute_reply": "2022-09-24T19:25:49.207047Z"
    },
    "papermill": {
     "duration": 0.043344,
     "end_time": "2022-09-24T19:25:49.210760",
     "exception": false,
     "start_time": "2022-09-24T19:25:49.167416",
     "status": "completed"
    },
    "tags": []
   },
   "outputs": [],
   "source": [
    "linear_reg = LinearRegression()\n",
    "linear_reg.fit(x_train,y_train)\n",
    "\n",
    "y_linear_pred = linear_reg.predict(x_test)"
   ]
  },
  {
   "cell_type": "code",
   "execution_count": 22,
   "id": "fb33c4ac",
   "metadata": {
    "execution": {
     "iopub.execute_input": "2022-09-24T19:25:49.240136Z",
     "iopub.status.busy": "2022-09-24T19:25:49.239163Z",
     "iopub.status.idle": "2022-09-24T19:25:49.247492Z",
     "shell.execute_reply": "2022-09-24T19:25:49.246203Z"
    },
    "papermill": {
     "duration": 0.025662,
     "end_time": "2022-09-24T19:25:49.250088",
     "exception": false,
     "start_time": "2022-09-24T19:25:49.224426",
     "status": "completed"
    },
    "tags": []
   },
   "outputs": [
    {
     "name": "stdout",
     "output_type": "stream",
     "text": [
      "Mean absolute error:  8.915078358001631\n",
      "\n",
      "Root mean squared error:  2.9858128471157785\n",
      "\n",
      "R2 score:  0.969591081117196\n"
     ]
    }
   ],
   "source": [
    "print('Mean absolute error: ',mean_absolute_error(y_test,y_linear_pred))\n",
    "print()\n",
    "print('Root mean squared error: ', np.sqrt(mean_absolute_error(y_test,y_linear_pred)))\n",
    "print()\n",
    "print('R2 score: ',r2_score(y_test,y_linear_pred))"
   ]
  },
  {
   "cell_type": "markdown",
   "id": "8825b030",
   "metadata": {
    "papermill": {
     "duration": 0.013199,
     "end_time": "2022-09-24T19:25:49.277290",
     "exception": false,
     "start_time": "2022-09-24T19:25:49.264091",
     "status": "completed"
    },
    "tags": []
   },
   "source": [
    "So, the accuracy of the predicted model is btained to be 96.95%.\n",
    "\n",
    "As the amount of the data in the dataset is not very large, we use K-fold Cross Validation Technique to make sure that the predicted model is the best choice."
   ]
  },
  {
   "cell_type": "code",
   "execution_count": 23,
   "id": "9aaaa1e3",
   "metadata": {
    "execution": {
     "iopub.execute_input": "2022-09-24T19:25:49.306618Z",
     "iopub.status.busy": "2022-09-24T19:25:49.305592Z",
     "iopub.status.idle": "2022-09-24T19:25:49.356489Z",
     "shell.execute_reply": "2022-09-24T19:25:49.355121Z"
    },
    "papermill": {
     "duration": 0.068175,
     "end_time": "2022-09-24T19:25:49.359039",
     "exception": false,
     "start_time": "2022-09-24T19:25:49.290864",
     "status": "completed"
    },
    "tags": []
   },
   "outputs": [
    {
     "name": "stdout",
     "output_type": "stream",
     "text": [
      "Accuracy: 98.03 %\n",
      "Standard Deviation 0.64 %\n"
     ]
    }
   ],
   "source": [
    "# Using k=10 in K-fold Cross Validation\n",
    "cvs = cross_val_score(linear_reg,x_train,y_train,cv=10)\n",
    "\n",
    "print('Accuracy: {:.2f} %'.format(cvs.mean()*100))\n",
    "print('Standard Deviation {:.2f} %'.format(cvs.std()*100))"
   ]
  },
  {
   "cell_type": "markdown",
   "id": "412548be",
   "metadata": {
    "papermill": {
     "duration": 0.013319,
     "end_time": "2022-09-24T19:25:49.385902",
     "exception": false,
     "start_time": "2022-09-24T19:25:49.372583",
     "status": "completed"
    },
    "tags": []
   },
   "source": [
    "This shows that the standard deviation is very low and so the predicted linear regression model is the best choice for the dataset and the accuracy of the model is between 97.39% and 98.67%."
   ]
  },
  {
   "cell_type": "markdown",
   "id": "91222207",
   "metadata": {
    "papermill": {
     "duration": 0.013098,
     "end_time": "2022-09-24T19:25:49.412455",
     "exception": false,
     "start_time": "2022-09-24T19:25:49.399357",
     "status": "completed"
    },
    "tags": []
   },
   "source": [
    "## Interpretation of the model"
   ]
  },
  {
   "cell_type": "code",
   "execution_count": 24,
   "id": "182d3026",
   "metadata": {
    "execution": {
     "iopub.execute_input": "2022-09-24T19:25:49.440996Z",
     "iopub.status.busy": "2022-09-24T19:25:49.440592Z",
     "iopub.status.idle": "2022-09-24T19:25:49.446818Z",
     "shell.execute_reply": "2022-09-24T19:25:49.445621Z"
    },
    "papermill": {
     "duration": 0.024084,
     "end_time": "2022-09-24T19:25:49.449842",
     "exception": false,
     "start_time": "2022-09-24T19:25:49.425758",
     "status": "completed"
    },
    "tags": []
   },
   "outputs": [
    {
     "name": "stdout",
     "output_type": "stream",
     "text": [
      "Coefficients :  [26.03336703 39.20012732  0.23042303 61.28109167]\n",
      "Intercept :  -1059.5410514245957\n"
     ]
    }
   ],
   "source": [
    "# The coefficients and intercept of the regression model are\n",
    "print(\"Coefficients : \", linear_reg.coef_)\n",
    "print(\"Intercept : \",linear_reg.intercept_)"
   ]
  },
  {
   "cell_type": "code",
   "execution_count": 25,
   "id": "1ad8a352",
   "metadata": {
    "execution": {
     "iopub.execute_input": "2022-09-24T19:25:49.479637Z",
     "iopub.status.busy": "2022-09-24T19:25:49.478871Z",
     "iopub.status.idle": "2022-09-24T19:25:49.488933Z",
     "shell.execute_reply": "2022-09-24T19:25:49.488119Z"
    },
    "papermill": {
     "duration": 0.027097,
     "end_time": "2022-09-24T19:25:49.491198",
     "exception": false,
     "start_time": "2022-09-24T19:25:49.464101",
     "status": "completed"
    },
    "tags": []
   },
   "outputs": [
    {
     "data": {
      "text/html": [
       "<div>\n",
       "<style scoped>\n",
       "    .dataframe tbody tr th:only-of-type {\n",
       "        vertical-align: middle;\n",
       "    }\n",
       "\n",
       "    .dataframe tbody tr th {\n",
       "        vertical-align: top;\n",
       "    }\n",
       "\n",
       "    .dataframe thead th {\n",
       "        text-align: right;\n",
       "    }\n",
       "</style>\n",
       "<table border=\"1\" class=\"dataframe\">\n",
       "  <thead>\n",
       "    <tr style=\"text-align: right;\">\n",
       "      <th></th>\n",
       "      <th>Coefficient</th>\n",
       "    </tr>\n",
       "  </thead>\n",
       "  <tbody>\n",
       "    <tr>\n",
       "      <th>Avg. Session Length</th>\n",
       "      <td>26.033367</td>\n",
       "    </tr>\n",
       "    <tr>\n",
       "      <th>Time on App</th>\n",
       "      <td>39.200127</td>\n",
       "    </tr>\n",
       "    <tr>\n",
       "      <th>Time on Website</th>\n",
       "      <td>0.230423</td>\n",
       "    </tr>\n",
       "    <tr>\n",
       "      <th>Length of Membership</th>\n",
       "      <td>61.281092</td>\n",
       "    </tr>\n",
       "  </tbody>\n",
       "</table>\n",
       "</div>"
      ],
      "text/plain": [
       "                      Coefficient\n",
       "Avg. Session Length     26.033367\n",
       "Time on App             39.200127\n",
       "Time on Website          0.230423\n",
       "Length of Membership    61.281092"
      ]
     },
     "execution_count": 25,
     "metadata": {},
     "output_type": "execute_result"
    }
   ],
   "source": [
    "#Converting it into a dataframe\n",
    "pd.DataFrame(data=linear_reg.coef_, index=['Avg. Session Length','Time on App','Time on Website','Length of Membership'], columns=['Coefficient'])"
   ]
  },
  {
   "cell_type": "markdown",
   "id": "eeb5c288",
   "metadata": {
    "papermill": {
     "duration": 0.013469,
     "end_time": "2022-09-24T19:25:49.518511",
     "exception": false,
     "start_time": "2022-09-24T19:25:49.505042",
     "status": "completed"
    },
    "tags": []
   },
   "source": [
    "## Conclusion\n",
    "\n",
    "The predicted model is found to be 98% accurate.\n",
    "\n",
    "The inferences that can be drawn from the linear regression model are,\n",
    "\n",
    "1) Increase of one unit in Avg. Session Length results in an increase of $ 26.033367 of Yearly Amount Spent.\n",
    "\n",
    "2) Increase of one unit in Time on App results in an increase of $ 39.200127 of Yearly Amount Spent.\n",
    "\n",
    "3) Increase of one unit in Time on Website results in an increase of $ 0.230423 of Yearly Amount Spent.\n",
    "\n",
    "4) Increase of one unit in Length of Membership results in an increase of $ 61.281092 of Yearly Amount Spent.\n",
    "\n",
    "So, the company needs to focus mostly on the strategies to motivate the customers to take longer terms of membership in order to increase the revenue. It should also focus on app rather than on website as the app is generating more revenue for the company. "
   ]
  }
 ],
 "metadata": {
  "kernelspec": {
   "display_name": "Python 3",
   "language": "python",
   "name": "python3"
  },
  "language_info": {
   "codemirror_mode": {
    "name": "ipython",
    "version": 3
   },
   "file_extension": ".py",
   "mimetype": "text/x-python",
   "name": "python",
   "nbconvert_exporter": "python",
   "pygments_lexer": "ipython3",
   "version": "3.7.12"
  },
  "papermill": {
   "default_parameters": {},
   "duration": 15.429241,
   "end_time": "2022-09-24T19:25:50.354278",
   "environment_variables": {},
   "exception": null,
   "input_path": "__notebook__.ipynb",
   "output_path": "__notebook__.ipynb",
   "parameters": {},
   "start_time": "2022-09-24T19:25:34.925037",
   "version": "2.3.4"
  }
 },
 "nbformat": 4,
 "nbformat_minor": 5
}
